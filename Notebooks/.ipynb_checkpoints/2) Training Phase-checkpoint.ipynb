{
 "cells": [
  {
   "cell_type": "code",
   "execution_count": 1,
   "metadata": {
    "collapsed": true
   },
   "outputs": [],
   "source": [
    "#SyedHassaanTauqeer 19-01-2019 Final Code Notebook Draft \n",
    "import os, glob\n",
    "import pandas as pd\n",
    "import matplotlib.pyplot as plt\n",
    "import numpy as np\n",
    "import collections\n",
    "import datetime\n",
    "import sklearn.cluster as skc\n",
    "from sklearn.model_selection import train_test_split\n",
    "from sklearn import svm\n",
    "import pickle"
   ]
  },
  {
   "cell_type": "code",
   "execution_count": 2,
   "metadata": {
    "collapsed": true
   },
   "outputs": [],
   "source": [
    "def dataTrainGen(df, var):#This function takes in the main training dataframe and converts the data columns to feature groups\n",
    "    #These groups are then sent together with the specified label vector\n",
    "    #This function is used twice because two different classifiers are trained on the spin and end spin phases respectively\n",
    "    if var == 's':\n",
    "        tempLab = df['spins'].values\n",
    "    elif var == 'e':\n",
    "        tempLab = df['end_spin'].values\n",
    "   \n",
    "    pair = []#The feature vector container\n",
    "    for index, rows in df.iterrows():\n",
    "        pair.append( ( rows['scaledTime'].astype(float), rows['scaledPower'].astype(float), rows['scaledPowMin'].astype(float), rows['scaledPowDiff'] ) )\n",
    "\n",
    "    return pair, tempLab"
   ]
  },
  {
   "cell_type": "markdown",
   "metadata": {},
   "source": [
    "## The Training Phase begins here"
   ]
  },
  {
   "cell_type": "markdown",
   "metadata": {},
   "source": [
    "The data is converted to a feature matrix and the corresponding label vector, and are then split to train/test portions.\n",
    "<br>Two classifiers are trained separately for the \"spin phase\" and \"end spin phase\" detection.\n",
    "<br>The classifiers are then run on the test portion to give an accuracy value.\n",
    "<br>The accuracy is computed by checking the matches of the positively labeled test samples against their predicted values, since the negative labels are not really relevant in checking for accuracy"
   ]
  },
  {
   "cell_type": "code",
   "execution_count": 3,
   "metadata": {
    "collapsed": true
   },
   "outputs": [],
   "source": [
    "os.chdir('C:\\\\Users\\\\Labyrinth\\\\JUPYTER NOTEBOOKS\\\\WeWash_Praktikum_TUM3sem\\\\WeWash_Analysis_ver2\\\\Data\\\\processed')"
   ]
  },
  {
   "cell_type": "code",
   "execution_count": 4,
   "metadata": {},
   "outputs": [
    {
     "name": "stdout",
     "output_type": "stream",
     "text": [
      "Machines:  696\n",
      "   end_spin  machine   pow  powMin  scaledPowMin  scaledPower  scaledTime  \\\n",
      "0       0.0   128895  0.04    0.04           0.0          0.0         0.0   \n",
      "1       0.0   128895  0.04    0.04           0.0          0.0         0.0   \n",
      "\n",
      "   spins  time  scaledPowDiff  \n",
      "0    0.0   0.0            0.0  \n",
      "1    0.0   1.0            0.0  \n"
     ]
    }
   ],
   "source": [
    "_file = 'UniFeatScaledV2_146-150-400_696_128895-212236.csv'\n",
    "bigDF = pd.read_csv(_file, delimiter=';')\n",
    "print 'Machines: ', len(bigDF['machine'].unique())\n",
    "print bigDF.head(2)"
   ]
  },
  {
   "cell_type": "code",
   "execution_count": 5,
   "metadata": {},
   "outputs": [
    {
     "name": "stdout",
     "output_type": "stream",
     "text": [
      "(983140L, 4L) (983140L, 4L)\n",
      "(983140L,) (983140L,)\n"
     ]
    }
   ],
   "source": [
    "X_spin, Lab_spin = dataTrainGen(bigDF, 's')#calling this function for obtaining the training data and spin labels\n",
    "X_end, Lab_end = dataTrainGen(bigDF, 'e')#calling this function for obtaining the same training data and end spin labels\n",
    "X_spin = np.asarray(X_spin)#converting to numpy array for faster computations and wider function support\n",
    "X_end = np.asarray(X_end)#converting to numpy array for faster computations and wider function support\n",
    "print X_spin.shape, X_end.shape\n",
    "Lab_spin = np.asarray(Lab_spin)\n",
    "Lab_end = np.asarray(Lab_end)\n",
    "print Lab_spin.shape, Lab_end.shape"
   ]
  },
  {
   "cell_type": "code",
   "execution_count": 6,
   "metadata": {},
   "outputs": [
    {
     "name": "stdout",
     "output_type": "stream",
     "text": [
      "(884826L, 4L) (884826L,) \t\t(884826L, 4L) (884826L,)\n",
      "(98314L, 4L) (98314L,) \t\t(98314L, 4L) (98314L,)\n"
     ]
    }
   ],
   "source": [
    "X_spin_train, X_spin_test, y_spin_train, y_spin_test = train_test_split(X_spin, Lab_spin, test_size=0.1)#splitting the data in \n",
    "#train/test pair with a 10% ratio for testing to maximize on training data\n",
    "X_end_train, X_end_test, y_end_train, y_end_test = train_test_split(X_end, Lab_end, test_size=0.1)\n",
    "print X_spin_train.shape, y_spin_train.shape, '\\t\\t', X_end_train.shape, y_end_train.shape\n",
    "print X_spin_test.shape, y_spin_test.shape, '\\t\\t', X_end_test.shape, y_end_test.shape"
   ]
  },
  {
   "cell_type": "code",
   "execution_count": null,
   "metadata": {},
   "outputs": [
    {
     "data": {
      "text/plain": [
       "SVC(C=1.0, cache_size=200, class_weight=None, coef0=0.0,\n",
       "  decision_function_shape='ovr', degree=3, gamma='auto', kernel='rbf',\n",
       "  max_iter=-1, probability=False, random_state=None, shrinking=True,\n",
       "  tol=0.001, verbose=False)"
      ]
     },
     "execution_count": 7,
     "metadata": {},
     "output_type": "execute_result"
    }
   ],
   "source": [
    "#Spin classifier Model - takes about 4-5 hours to train\n",
    "clf_spin = svm.SVC()\n",
    "clf_spin.fit(X_spin_train, y_spin_train)"
   ]
  },
  {
   "cell_type": "code",
   "execution_count": null,
   "metadata": {
    "collapsed": true
   },
   "outputs": [],
   "source": [
    "#End spin classifier model - takes roughly the same time as the spin model\n",
    "clf_end = svm.SVC()\n",
    "clf_end.fit(X_end_train, y_end_train)"
   ]
  },
  {
   "cell_type": "code",
   "execution_count": null,
   "metadata": {
    "collapsed": true
   },
   "outputs": [],
   "source": [
    "#saving the models to files to avoid the training computation repeatedly\n",
    "pickle.dump(clf_spin, open('SVM_spinModel4f_146-150-400.sav', 'wb'))\n",
    "pickle.dump(clf_end, open('SVM_endModel4f_146-150-400.sav', 'wb'))\n",
    "pickle.dump(clf_spin, open('SVM_spinModel4f_146-150-400.pkl', 'wb'))\n",
    "pickle.dump(clf_end, open('SVM_endModel4f_146-150-400.pkl', 'wb'))"
   ]
  },
  {
   "cell_type": "code",
   "execution_count": null,
   "metadata": {
    "collapsed": true
   },
   "outputs": [],
   "source": [
    "#testing on 10% of the data\n",
    "yPred_spin = clf_spin.predict(X_spin_test)\n",
    "print yPred_spin.shape\n",
    "yPred_end = clf_end.predict(X_end_test)\n",
    "print yPred_end.shape"
   ]
  },
  {
   "cell_type": "code",
   "execution_count": null,
   "metadata": {
    "collapsed": true
   },
   "outputs": [],
   "source": [
    "#checking for accuracy\n",
    "corr = 0\n",
    "total = np.count_nonzero(y_spin_test)\n",
    "for i in range(len(yPred_spin)):\n",
    "    if yPred_spin[i]==y_spin_test[i] and y_spin_test[i]==1:\n",
    "        corr+=1\n",
    "print 'Spin Test accuracy: ', float(corr)/float(total)\n",
    "\n",
    "corr = 0\n",
    "total = np.count_nonzero(y_end_test)\n",
    "for i in range(len(yPred_end)):\n",
    "    if yPred_end[i]==y_end_test[i] and y_end_test[i]==1:\n",
    "        corr+=1\n",
    "print 'End Test accuracy: ', float(corr)/float(total)"
   ]
  },
  {
   "cell_type": "code",
   "execution_count": null,
   "metadata": {
    "collapsed": true
   },
   "outputs": [],
   "source": []
  }
 ],
 "metadata": {
  "kernelspec": {
   "display_name": "Python 2",
   "language": "python",
   "name": "python2"
  },
  "language_info": {
   "codemirror_mode": {
    "name": "ipython",
    "version": 2
   },
   "file_extension": ".py",
   "mimetype": "text/x-python",
   "name": "python",
   "nbconvert_exporter": "python",
   "pygments_lexer": "ipython2",
   "version": "2.7.14"
  }
 },
 "nbformat": 4,
 "nbformat_minor": 2
}
